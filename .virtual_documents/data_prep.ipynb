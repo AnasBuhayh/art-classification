


import random
import glob
import numpy as np
import matplotlib.pyplot as plt
import matplotlib.image as mpimg 
import cv2
import os
from PIL import Image


%matplotlib inline


# get the styles names
styles = os.listdir('archive')

# check how many files per style
for style in styles:
    os.listdir((f'archive/{style}/{style}'))
    print(style, len(os.listdir((f'archive/{style}/{style}'))))


# test image
def print_test_image(style,i):
    img_name = os.listdir((f'archive/{style}/{style}'))[i]
    test_img = glob.glob(f'archive/{style}/{style}/{img_name}')
    test_img = mpimg.imread(test_img[0])
    print(test_img.shape)
    plt.imshow(test_img)





print_test_image('Japanese_Art', 1)





print_test_image('Rococo',1)





# test image
print_test_image('Primitivism',1)





#split the data into train and test directories
import shutil
import os
import random

random.seed(31101992)

# check if file is corrupted
def check_image(file_path):
    try:
        with Image.open(file_path) as img:
            img.load()
        return True  
    except Exception as e:
        print(f"Error: {e}")
        return False 

def create_train_test(style):
    print(style)
    # 1. Read the files
    img_names = [] # to store images names
    split_size = 0.8

    for file in glob.glob(f'archive/{style}/{style}/*'):
        im = mpimg.imread(file)
    
        
        if len(im.shape) < 3: #skip black and white images
            continue
        
        if im.shape[2] != 3: #make sure to keep only RGB channels
            continue
        
        img_names.append(file.split('/')[-1])
        
    print("done reading files:",len(img_names))
    
    # 2. Shuffle
    random.shuffle(img_names)
        
    # 3. split
    start_index = int(len(img_names) * split_size)
    #train set 70% of the data
    train_set = img_names[:start_index]
    test_set = img_names[start_index:]
    
    # 4. copy to train
    os.makedirs(f'train_test/train/{style}', exist_ok=True)
    
    source_directory = f'archive/{style}/{style}/'
    destination_directory = f'train_test/train/{style}/'
    
    for file_name in train_set:
        source_path = os.path.join(source_directory, file_name)
        destination_path = os.path.join(destination_directory, file_name)
        
        # copy tile
        shutil.copy(source_path, destination_path)

    print("done copying train")

    # 5. copy to test
    os.makedirs(f'train_test/test/{style}', exist_ok=True)
    
    source_directory = f'archive/{style}/{style}/'
    destination_directory = f'train_test/test/{style}/'

    for file_name in test_set:
        source_path = os.path.join(source_directory, file_name)
        destination_path = os.path.join(destination_directory, file_name)
        # copy tile
        shutil.copy(source_path, destination_path)
        
    print("done copying test")
    
    print("train:", len(train_set),  "test:", len(test_set), "\n")


styles = ['Japanese_Art','Rococo','Expressionism']
for style in styles:
    create_train_test(style)



