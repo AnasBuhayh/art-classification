{
 "cells": [
  {
   "cell_type": "markdown",
   "metadata": {},
   "source": [
    "# NN Implementation"
   ]
  },
  {
   "cell_type": "markdown",
   "metadata": {},
   "source": [
    "### 1. Reading data"
   ]
  },
  {
   "cell_type": "code",
   "execution_count": null,
   "metadata": {},
   "outputs": [],
   "source": [
    "import numpy as np\n",
    "import matplotlib.pyplot as plt\n",
    "import pickle\n",
    "import tensorflow as tf\n",
    "import matplotlib.image as mpimg\n",
    "import keras_cv"
   ]
  },
  {
   "cell_type": "code",
   "execution_count": null,
   "metadata": {},
   "outputs": [],
   "source": [
    "# importing the date prepared in data_prep.ipynb\n",
    "train_ds = tf.keras.utils.image_dataset_from_directory(\n",
    "    directory='train_test/train',\n",
    "    labels='inferred',\n",
    "    label_mode='categorical',\n",
    "    batch_size=32,\n",
    "    image_size=(256, 256),\n",
    "    seed=1992,\n",
    "    shuffle=False)\n",
    "\n",
    "test_ds = tf.keras.utils.image_dataset_from_directory(\n",
    "    directory='train_test/test',\n",
    "    labels='inferred',\n",
    "    label_mode='categorical',\n",
    "    batch_size=32,\n",
    "    image_size=(256, 256),\n",
    "    seed=1992,\n",
    "    shuffle=False)"
   ]
  },
  {
   "cell_type": "markdown",
   "metadata": {},
   "source": [
    "### 3. Model implementation"
   ]
  },
  {
   "cell_type": "code",
   "execution_count": null,
   "metadata": {},
   "outputs": [],
   "source": [
    "xy = 200"
   ]
  },
  {
   "cell_type": "code",
   "execution_count": null,
   "metadata": {},
   "outputs": [],
   "source": [
    "# preparing a data augmentation sequence to add more samples to the dataset\n",
    "data_augmentation = tf.keras.Sequential([\n",
    "    # scale and rotation\n",
    "    tf.keras.layers.experimental.preprocessing.RandomFlip(\"horizontal\"),\n",
    "    tf.keras.layers.experimental.preprocessing.RandomRotation(0.2), \n",
    "    tf.keras.layers.experimental.preprocessing.RandomZoom(height_factor=0.2, width_factor=0.2), \n",
    "    # color\n",
    "    tf.keras.layers.RandomContrast(factor=0.2),\n",
    "    tf.keras.layers.RandomBrightness(factor=0.2),\n",
    "    keras_cv.layers.RandomSaturation(factor=0.2),\n",
    "    keras_cv.layers.RandomHue(factor=0.2, value_range=(0,255)),\n",
    "    keras_cv.layers.RandomSharpness(factor=0.2, value_range=(0,255)),\n",
    "    keras_cv.layers.ChannelShuffle(),\n",
    "    keras_cv.layers.RandomColorDegeneration(factor=0.2),\n",
    "    # noise\n",
    "    tf.keras.layers.GaussianNoise(0.1),\n",
    "    keras_cv.layers.RandomShear(x_factor=0.3,y_factor=0.3,),\n",
    "\n",
    "])"
   ]
  },
  {
   "cell_type": "code",
   "execution_count": null,
   "metadata": {},
   "outputs": [],
   "source": [
    "# defining the layers\n",
    "model_nn = tf.keras.Sequential([\n",
    "    data_augmentation,\n",
    "    tf.keras.layers.Flatten(input_shape=(xy, xy, 3)),\n",
    "    tf.keras.layers.BatchNormalization(),\n",
    "    tf.keras.layers.Dense(128, activation='relu'),\n",
    "    tf.keras.layers.Dropout(0.5),\n",
    "    tf.keras.layers.Dense(64, activation='relu'),\n",
    "    tf.keras.layers.Dropout(0.5),\n",
    "    tf.keras.layers.Dense(3) \n",
    "])"
   ]
  },
  {
   "cell_type": "code",
   "execution_count": null,
   "metadata": {},
   "outputs": [],
   "source": [
    "initial_learning_rate = 0.001\n",
    "lr_schedule = tf.keras.optimizers.schedules.ExponentialDecay(\n",
    "    initial_learning_rate, decay_steps=10000, decay_rate=0.9, staircase=True\n",
    ")\n",
    "\n",
    "optimizer = tf.keras.optimizers.Adam(learning_rate=lr_schedule)\n",
    "\n",
    "model_nn.compile(optimizer=optimizer,\n",
    "              loss=tf.keras.losses.SparseCategoricalCrossentropy(from_logits=True),\n",
    "              metrics=['accuracy'])"
   ]
  },
  {
   "cell_type": "code",
   "execution_count": null,
   "metadata": {
    "scrolled": true
   },
   "outputs": [],
   "source": [
    "early_stopping = tf.keras.callbacks.EarlyStopping(\n",
    "    patience=10, restore_best_weights=True\n",
    ")\n",
    "\n",
    "training_history = model_nn.fit(X_train, y_train, epochs=10, callbacks=[early_stopping])"
   ]
  },
  {
   "cell_type": "code",
   "execution_count": null,
   "metadata": {},
   "outputs": [],
   "source": [
    "import pickle\n",
    "\n",
    "# Pickle the model\n",
    "with open(\"model_nn.pkl\", \"wb\") as file:\n",
    "    pickle.dump(model_nn, file)\n"
   ]
  },
  {
   "cell_type": "markdown",
   "metadata": {},
   "source": [
    "### 3. Evaluation"
   ]
  },
  {
   "cell_type": "code",
   "execution_count": null,
   "metadata": {},
   "outputs": [],
   "source": [
    "test_loss_nn, test_acc_nn = model_nn.evaluate(test_ds, verbose=2)\n",
    "\n",
    "print('\\nTest accuracy:', test_acc_nn)"
   ]
  },
  {
   "cell_type": "code",
   "execution_count": null,
   "metadata": {},
   "outputs": [],
   "source": [
    "type(X_test[0])"
   ]
  },
  {
   "cell_type": "code",
   "execution_count": null,
   "metadata": {},
   "outputs": [],
   "source": [
    "probability_model = tf.keras.Sequential([\n",
    "    model_nn, \n",
    "    tf.keras.layers.Softmax()])\n",
    "\n",
    "predictions = probability_model.predict(test_ds)"
   ]
  },
  {
   "cell_type": "markdown",
   "metadata": {},
   "source": [
    "#### varify prediction"
   ]
  },
  {
   "cell_type": "code",
   "execution_count": null,
   "metadata": {},
   "outputs": [],
   "source": [
    "predictions[0]"
   ]
  },
  {
   "cell_type": "code",
   "execution_count": null,
   "metadata": {},
   "outputs": [],
   "source": [
    "test_ds.class_names"
   ]
  },
  {
   "cell_type": "code",
   "execution_count": null,
   "metadata": {},
   "outputs": [],
   "source": [
    "# print the first image in the testset\n",
    "for images, labels in test_ds.take(1):\n",
    "    first_image = images[0]\n",
    "    first_label = labels[0]\n",
    "\n",
    "print(first_image.shape)\n",
    "print(first_label)\n",
    "plt.imshow(first_image.numpy().astype(int))"
   ]
  },
  {
   "cell_type": "code",
   "execution_count": null,
   "metadata": {},
   "outputs": [],
   "source": [
    "# now let's see the prediction\n",
    "img_array = np.expand_dims(first_image, axis=0)\n",
    "probability_model.predict(img_array)"
   ]
  },
  {
   "cell_type": "code",
   "execution_count": null,
   "metadata": {},
   "outputs": [],
   "source": [
    "test_ds.class_names"
   ]
  },
  {
   "cell_type": "markdown",
   "metadata": {},
   "source": [
    "#### confusion matrix"
   ]
  },
  {
   "cell_type": "code",
   "execution_count": null,
   "metadata": {},
   "outputs": [],
   "source": [
    "# from sklearn.metrics import confusion_matrix\n",
    "\n",
    "# y_prediction = model.predict(x_test)\n",
    "# result = confusion_matrix(y_test, y_prediction , normalize='pred')"
   ]
  },
  {
   "cell_type": "markdown",
   "metadata": {},
   "source": [
    "#### accuracy and loss graph"
   ]
  },
  {
   "cell_type": "code",
   "execution_count": null,
   "metadata": {},
   "outputs": [],
   "source": [
    "epoch = len(history_nn.history.get('loss',[]))\n",
    "\n",
    "# Draw Model Accuracy\n",
    "plt.figure(2,figsize=(6,4))\n",
    "plt.plot(range(epoch),history_nn.history.get('accuracy'))\n",
    "#plt.plot(range(epoch),training_history.history.get('val_acc'))\n",
    "plt.xlabel('# Epochs')\n",
    "plt.ylabel('Accuracy')\n",
    "plt.title('Model Accuracy')\n",
    "plt.grid(True)\n",
    "plt.legend(['train','validation'],loc=4)\n",
    "plt.style.use(['classic'])\n",
    "\n",
    "# Draw Model Loss\n",
    "plt.figure(1,figsize=(6,4))\n",
    "plt.plot(range(epoch),history_nn.history.get('loss'))\n",
    "#plt.plot(range(epoch),training_history.history.get('val_loss'))\n",
    "plt.xlabel('# Epochs')\n",
    "plt.ylabel('Loss')\n",
    "plt.title('Model Loss')\n",
    "plt.grid(True)\n",
    "plt.legend(['train','validation'], loc=4)\n",
    "plt.style.use(['classic'])"
   ]
  },
  {
   "cell_type": "markdown",
   "metadata": {},
   "source": [
    "#### 4. Summary"
   ]
  },
  {
   "cell_type": "code",
   "execution_count": null,
   "metadata": {},
   "outputs": [],
   "source": []
  }
 ],
 "metadata": {
  "kernelspec": {
   "display_name": "Python 3 (ipykernel)",
   "language": "python",
   "name": "python3"
  },
  "language_info": {
   "codemirror_mode": {
    "name": "ipython",
    "version": 3
   },
   "file_extension": ".py",
   "mimetype": "text/x-python",
   "name": "python",
   "nbconvert_exporter": "python",
   "pygments_lexer": "ipython3",
   "version": "3.11.5"
  }
 },
 "nbformat": 4,
 "nbformat_minor": 4
}
